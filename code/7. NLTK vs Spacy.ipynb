{
 "cells": [
  {
   "cell_type": "code",
   "execution_count": 1,
   "metadata": {},
   "outputs": [],
   "source": [
    "import spacy"
   ]
  },
  {
   "cell_type": "code",
   "execution_count": 7,
   "metadata": {},
   "outputs": [
    {
     "name": "stdout",
     "output_type": "stream",
     "text": [
      "This\n",
      "is\n",
      "a\n",
      "sentence\n",
      "written\n",
      "by\n",
      "Dr.\n",
      "John\n",
      ".\n",
      "This is a sentence written by Dr. John.\n",
      "While\n",
      ",\n",
      "this\n",
      "is\n",
      "another\n",
      "one\n",
      "written\n",
      "by\n",
      "Ms.\n",
      "Jane\n",
      ".\n",
      "While, this is another one written by Ms. Jane.\n"
     ]
    }
   ],
   "source": [
    "nlp = spacy.load(\"en_core_web_sm\")\n",
    "doc = nlp(\"This is a sentence written by Dr. John. While, this is another one written by Ms. Jane.\")\n",
    "for sentence in doc.sents:\n",
    "  for word in sentence:\n",
    "    print(word)\n",
    "  print(sentence)"
   ]
  },
  {
   "cell_type": "code",
   "execution_count": 4,
   "metadata": {},
   "outputs": [
    {
     "name": "stderr",
     "output_type": "stream",
     "text": [
      "[nltk_data] Downloading package punkt to\n",
      "[nltk_data]     C:\\Users\\user\\AppData\\Roaming\\nltk_data...\n",
      "[nltk_data]   Package punkt is already up-to-date!\n"
     ]
    },
    {
     "data": {
      "text/plain": [
       "['This',\n",
       " 'is',\n",
       " 'a',\n",
       " 'sentence',\n",
       " 'written',\n",
       " 'by',\n",
       " 'Dr.',\n",
       " 'John',\n",
       " '.',\n",
       " 'While',\n",
       " ',',\n",
       " 'this',\n",
       " 'is',\n",
       " 'another',\n",
       " 'one',\n",
       " 'written',\n",
       " 'by',\n",
       " 'Ms.',\n",
       " 'Jane',\n",
       " '.']"
      ]
     },
     "execution_count": 4,
     "metadata": {},
     "output_type": "execute_result"
    }
   ],
   "source": [
    "import nltk\n",
    "nltk.download('punkt')\n",
    "from nltk.tokenize import sent_tokenize, word_tokenize\n",
    "sent_tokenize(\"This is a sentence written by Dr. John. While, this is another one written by Ms. Jane.\")\n",
    "word_tokenize(\"This is a sentence written by Dr. John. While, this is another one written by Ms. Jane.\")"
   ]
  }
 ],
 "metadata": {
  "interpreter": {
   "hash": "23226dcb379d0ed0866266b24bdca6ba08c94e9c5b850a146778e390a9c8ac73"
  },
  "kernelspec": {
   "display_name": "Python 3 (ipykernel)",
   "language": "python",
   "name": "python3"
  },
  "language_info": {
   "codemirror_mode": {
    "name": "ipython",
    "version": 3
   },
   "file_extension": ".py",
   "mimetype": "text/x-python",
   "name": "python",
   "nbconvert_exporter": "python",
   "pygments_lexer": "ipython3",
   "version": "3.9.7"
  }
 },
 "nbformat": 4,
 "nbformat_minor": 2
}
