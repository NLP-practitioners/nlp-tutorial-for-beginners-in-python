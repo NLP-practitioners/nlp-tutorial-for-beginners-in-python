{
 "cells": [
  {
   "cell_type": "code",
   "execution_count": 2,
   "metadata": {},
   "outputs": [
    {
     "name": "stdout",
     "output_type": "stream",
     "text": [
      "This\n",
      "is\n",
      "the\n",
      "first\n",
      "sentence\n",
      "written\n",
      "by\n",
      "Dr.\n",
      "John\n",
      ".\n"
     ]
    }
   ],
   "source": [
    "import spacy\n",
    "nlp = spacy.blank(\"en\")\n",
    "doc = nlp(\"This is the first sentence written by Dr. John.\")\n",
    "\n",
    "for token in doc:\n",
    "  print(token)"
   ]
  },
  {
   "cell_type": "code",
   "execution_count": 4,
   "metadata": {},
   "outputs": [
    {
     "name": "stdout",
     "output_type": "stream",
     "text": [
      "This PRON this\n",
      "is AUX be\n",
      "the DET the\n",
      "first ADJ first\n",
      "sentence NOUN sentence\n",
      "written VERB write\n",
      "by ADP by\n",
      "Dr. PROPN Dr.\n",
      "John PROPN John\n",
      ". PUNCT .\n"
     ]
    }
   ],
   "source": [
    "nlp = spacy.load(\"en_core_web_sm\")\n",
    "doc = nlp(\"This is the first sentence written by Dr. John.\")\n",
    "\n",
    "for token in doc:\n",
    "  print(token, token.pos_, token.lemma_)"
   ]
  },
  {
   "cell_type": "code",
   "execution_count": 9,
   "metadata": {},
   "outputs": [
    {
     "name": "stdout",
     "output_type": "stream",
     "text": [
      "Elon Musk PERSON People, including fictional\n",
      "44 billion USD MONEY Monetary values, including unit\n"
     ]
    }
   ],
   "source": [
    "doc = nlp(\"Tesla CEO Elon Musk bought twitter for 44 billion USD\")\n",
    "\n",
    "for ent in doc.ents:\n",
    "  print(ent.text, ent.label_, spacy.explain(ent.label_))"
   ]
  },
  {
   "cell_type": "code",
   "execution_count": 10,
   "metadata": {},
   "outputs": [
    {
     "data": {
      "text/html": [
       "<span class=\"tex2jax_ignore\"><div class=\"entities\" style=\"line-height: 2.5; direction: ltr\">Tesla CEO \n",
       "<mark class=\"entity\" style=\"background: #aa9cfc; padding: 0.45em 0.6em; margin: 0 0.25em; line-height: 1; border-radius: 0.35em;\">\n",
       "    Elon Musk\n",
       "    <span style=\"font-size: 0.8em; font-weight: bold; line-height: 1; border-radius: 0.35em; vertical-align: middle; margin-left: 0.5rem\">PERSON</span>\n",
       "</mark>\n",
       " bought twitter for \n",
       "<mark class=\"entity\" style=\"background: #e4e7d2; padding: 0.45em 0.6em; margin: 0 0.25em; line-height: 1; border-radius: 0.35em;\">\n",
       "    44 billion USD\n",
       "    <span style=\"font-size: 0.8em; font-weight: bold; line-height: 1; border-radius: 0.35em; vertical-align: middle; margin-left: 0.5rem\">MONEY</span>\n",
       "</mark>\n",
       "</div></span>"
      ],
      "text/plain": [
       "<IPython.core.display.HTML object>"
      ]
     },
     "metadata": {},
     "output_type": "display_data"
    }
   ],
   "source": [
    "from spacy import displacy\n",
    "\n",
    "displacy.render(doc, style=\"ent\")"
   ]
  },
  {
   "cell_type": "code",
   "execution_count": 14,
   "metadata": {},
   "outputs": [
    {
     "name": "stdout",
     "output_type": "stream",
     "text": [
      "Elon Musk 380\n",
      "44 billion USD 394\n"
     ]
    }
   ],
   "source": [
    "en_pipeline = spacy.load(\"en_core_web_sm\")\n",
    "blank_pipeline = spacy.blank(\"en\")\n",
    "doc = blank_pipeline(\"Tesla CEO Elon Musk bought twitter for 44 billion USD\")\n",
    "\n",
    "for ent in doc.ents:\n",
    "  print(ent.text, ent.label)\n",
    "\n",
    "# Add ner to pipeline\n",
    "blank_pipeline.add_pipe(\"ner\", source=en_pipeline)\n",
    "blank_pipeline.pipe_names\n",
    "\n",
    "# Doc has to be created again since the pipeline components changed\n",
    "doc = blank_pipeline(\"Tesla CEO Elon Musk bought twitter for 44 billion USD\")\n",
    "\n",
    "for ent in doc.ents:\n",
    "  print(ent.text, ent.label)\n"
   ]
  }
 ],
 "metadata": {
  "interpreter": {
   "hash": "23226dcb379d0ed0866266b24bdca6ba08c94e9c5b850a146778e390a9c8ac73"
  },
  "kernelspec": {
   "display_name": "Python 3.9.7 64-bit",
   "language": "python",
   "name": "python3"
  },
  "language_info": {
   "codemirror_mode": {
    "name": "ipython",
    "version": 3
   },
   "file_extension": ".py",
   "mimetype": "text/x-python",
   "name": "python",
   "nbconvert_exporter": "python",
   "pygments_lexer": "ipython3",
   "version": "3.9.7"
  },
  "orig_nbformat": 4
 },
 "nbformat": 4,
 "nbformat_minor": 2
}
