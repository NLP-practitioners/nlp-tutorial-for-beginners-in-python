{
 "cells": [
  {
   "cell_type": "code",
   "execution_count": 5,
   "id": "47569ef5",
   "metadata": {},
   "outputs": [],
   "source": [
    "import re"
   ]
  },
  {
   "cell_type": "code",
   "execution_count": 33,
   "id": "783b5ff5",
   "metadata": {},
   "outputs": [],
   "source": [
    "chat1 = 'codebasics: you ask lot of questions 😠  1235678912, abc@xyz.com'\n",
    "chat2 = 'codebasics: here it is: (123)-567-8912, 123@xyz.com'\n",
    "chat3 = 'codebasics: yes, phone: 1235678912 email: ABC@xyz.io'\n",
    "chats = [chat1, chat2, chat3]"
   ]
  },
  {
   "cell_type": "code",
   "execution_count": 31,
   "id": "bab363f7",
   "metadata": {},
   "outputs": [
    {
     "name": "stdout",
     "output_type": "stream",
     "text": [
      "['1235678912']\n",
      "['(123)-567-8912']\n",
      "['1235678912']\n"
     ]
    }
   ],
   "source": [
    "# Pattern to extract order number from chat\n",
    "phone_id_pattern = '\\d{10}|\\(\\d{3}\\)-\\d{3}-\\d{4}'\n",
    "for chat in chats:\n",
    "    matches = re.findall(phone_id_pattern, chat)\n",
    "    print(matches)"
   ]
  },
  {
   "cell_type": "code",
   "execution_count": 34,
   "id": "2fed76b9",
   "metadata": {},
   "outputs": [
    {
     "name": "stdout",
     "output_type": "stream",
     "text": [
      "['abc@xyz.com']\n",
      "['123@xyz.com']\n",
      "['ABC@xyz.io']\n"
     ]
    }
   ],
   "source": [
    "# Patttern to extract email from chat\n",
    "email_id_pattern = '[a-zA-Z0-9]+@[a-zA-Z0-9]+\\.[a-z]{2,3}'\n",
    "for chat in chats:\n",
    "    matches = re.findall(email_id_pattern, chat)\n",
    "    print(matches)"
   ]
  },
  {
   "cell_type": "code",
   "execution_count": 37,
   "id": "bd634b8a",
   "metadata": {},
   "outputs": [],
   "source": [
    "chat1='codebasics: Hello, I am having an issue with my order # 412889912'\n",
    "chat2='codebasics: I have a problem with my order number 412889912'\n",
    "chat3='codebasics: My order 412889912 is having an issue, I was charged 300$ when online it says 280$'\n",
    "chats = [chat1, chat2, chat3]"
   ]
  },
  {
   "cell_type": "code",
   "execution_count": 40,
   "id": "12a18977",
   "metadata": {},
   "outputs": [
    {
     "name": "stdout",
     "output_type": "stream",
     "text": [
      "['412889912']\n",
      "['412889912']\n",
      "['412889912']\n"
     ]
    }
   ],
   "source": [
    "order_id_pattern = 'order\\s(?:#|(?:number))?\\s?(\\d{9})'\n",
    "for chat in chats:\n",
    "    matches = re.findall(order_id_pattern, chat)\n",
    "    print(matches)"
   ]
  }
 ],
 "metadata": {
  "kernelspec": {
   "display_name": "Python 3 (ipykernel)",
   "language": "python",
   "name": "python3"
  },
  "language_info": {
   "codemirror_mode": {
    "name": "ipython",
    "version": 3
   },
   "file_extension": ".py",
   "mimetype": "text/x-python",
   "name": "python",
   "nbconvert_exporter": "python",
   "pygments_lexer": "ipython3",
   "version": "3.9.7"
  }
 },
 "nbformat": 4,
 "nbformat_minor": 5
}
